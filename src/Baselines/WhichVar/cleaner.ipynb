{
 "cells": [
  {
   "cell_type": "code",
   "execution_count": 4,
   "metadata": {},
   "outputs": [],
   "source": [
    "import os\n",
    "import json\n",
    "import re\n",
    "from collections import Counter\n",
    "\n",
    "regex = r\"(?i)(?:log(?:ger)?\\w*)\\s*\\.\\s*(?:log|error|info|warn|fatal|debug|trace|off|all)\\s*\\([^;]*\\)\"\n",
    "\n",
    "def process_directory(directory):\n",
    "    for filename in os.listdir(directory):\n",
    "        filepath = os.path.join(directory, filename)\n",
    "        if os.path.isdir(filepath):\n",
    "            process_directory(filepath)\n",
    "        elif filename.endswith('.json'):\n",
    "            process_file(filepath)\n",
    "\n",
    "def process_file(filepath):\n",
    "    with open(filepath, 'r') as f:\n",
    "        data = json.load(f)\n",
    "        method_code = data.get('methodCode', '')\n",
    "        log_variables = data.get('logVariables', [])\n",
    "        \n",
    "        for match in re.finditer(regex, method_code):\n",
    "            logging_statement = match.group(0)\n",
    "            \n",
    "            if all(var in logging_statement for var in log_variables):\n",
    "                start_index = match.start()\n",
    "                line_count = Counter(method_code[:start_index])['\\n']\n",
    "                start_line = max(0, line_count - 15)\n",
    "                preceding_lines = method_code.split('\\n')[:start_line]\n",
    "                start_index = len('\\n'.join(preceding_lines)) + 1 if preceding_lines else 0\n",
    "                data['methodCode'] = method_code[start_index:match.end()]\n",
    "                \n",
    "                with open(filepath, 'w') as f:\n",
    "                    json.dump(data, f)\n",
    "                break\n",
    "# ...\n",
    "\n",
    "process_directory('/Users/liyichen/data/')\n"
   ]
  },
  {
   "cell_type": "code",
   "execution_count": null,
   "metadata": {},
   "outputs": [],
   "source": []
  }
 ],
 "metadata": {
  "kernelspec": {
   "display_name": "Python 3",
   "language": "python",
   "name": "python3"
  },
  "language_info": {
   "codemirror_mode": {
    "name": "ipython",
    "version": 3
   },
   "file_extension": ".py",
   "mimetype": "text/x-python",
   "name": "python",
   "nbconvert_exporter": "python",
   "pygments_lexer": "ipython3",
   "version": "3.9.7"
  }
 },
 "nbformat": 4,
 "nbformat_minor": 2
}
