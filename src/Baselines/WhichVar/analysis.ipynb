{
 "cells": [
  {
   "cell_type": "code",
   "execution_count": 23,
   "metadata": {},
   "outputs": [],
   "source": [
    "import json\n",
    "import numpy as np"
   ]
  },
  {
   "cell_type": "code",
   "execution_count": 9,
   "metadata": {},
   "outputs": [],
   "source": [
    "with open(\"output.json\", \"r\") as f:\n",
    "    data_list = json.load(f)"
   ]
  },
  {
   "cell_type": "code",
   "execution_count": 10,
   "metadata": {},
   "outputs": [
    {
     "name": "stdout",
     "output_type": "stream",
     "text": [
      "{'code': 'private void handleAdjustPublishRate(Context ctx) throws Exception {\\n    Double publishRate = mapper.readValue(ctx.body(), Double.class);', 'pred_variables': ['mapper', 'publishRate', 'body'], 'label_variables': ['publishRate']}\n"
     ]
    }
   ],
   "source": [
    "print(data_list[0])"
   ]
  },
  {
   "cell_type": "code",
   "execution_count": 20,
   "metadata": {},
   "outputs": [],
   "source": [
    "def precision_recall_f1(labels, predictions):\n",
    "    true_positives = len(set(labels) & set(predictions))\n",
    "    false_positives = len(set(predictions) - set(labels))\n",
    "    false_negatives = len(set(labels) - set(predictions))\n",
    "\n",
    "    precision = true_positives / (true_positives + false_positives) if (true_positives + false_positives) != 0.0 else 0.0\n",
    "    recall = true_positives / (true_positives + false_negatives) if (true_positives + false_negatives) != 0.0 else 0.0\n",
    "    f1 = 2 * (precision * recall) / (precision + recall) if (precision + recall) != 0.0 else 0.0\n",
    "\n",
    "    return precision, recall, f1"
   ]
  },
  {
   "cell_type": "code",
   "execution_count": 22,
   "metadata": {},
   "outputs": [],
   "source": [
    "precs, recs, f1s = [], [], []\n",
    "for idx, data in enumerate(data_list):\n",
    "    labels = data['label_variables']\n",
    "    predcits = data['pred_variables']\n",
    "    \n",
    "    # print(predcits, labels)\n",
    "    precision, recall, f1 = precision_recall_f1(labels, predcits)\n",
    "    precs.append(precision)\n",
    "    recs.append(recall)\n",
    "    f1s.append(f1)"
   ]
  },
  {
   "cell_type": "code",
   "execution_count": 25,
   "metadata": {},
   "outputs": [
    {
     "name": "stdout",
     "output_type": "stream",
     "text": [
      "0.5030762324986151\n",
      "0.6346379386090578\n",
      "0.5348833543779392\n"
     ]
    }
   ],
   "source": [
    "print(np.mean(precs))\n",
    "print(np.mean(recs))\n",
    "print(np.mean(f1s))"
   ]
  },
  {
   "cell_type": "code",
   "execution_count": null,
   "metadata": {},
   "outputs": [],
   "source": []
  }
 ],
 "metadata": {
  "kernelspec": {
   "display_name": "myenv",
   "language": "python",
   "name": "python3"
  },
  "language_info": {
   "codemirror_mode": {
    "name": "ipython",
    "version": 3
   },
   "file_extension": ".py",
   "mimetype": "text/x-python",
   "name": "python",
   "nbconvert_exporter": "python",
   "pygments_lexer": "ipython3",
   "version": "3.7.13"
  }
 },
 "nbformat": 4,
 "nbformat_minor": 2
}
